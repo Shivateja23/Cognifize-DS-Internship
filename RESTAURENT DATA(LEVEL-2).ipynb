{
 "cells": [
  {
   "cell_type": "code",
   "execution_count": 174,
   "id": "7be90e91-263c-4dee-bbc2-d044a3844cce",
   "metadata": {},
   "outputs": [],
   "source": [
    "import pandas as pd\n",
    "import numpy as np\n",
    "import matplotlib.pyplot as plt\n",
    "import seaborn as sns"
   ]
  },
  {
   "cell_type": "code",
   "execution_count": 178,
   "id": "8ff048f5-7ea3-4628-b9c5-4b7b81dbc971",
   "metadata": {},
   "outputs": [
    {
     "data": {
      "text/html": [
       "<div>\n",
       "<style scoped>\n",
       "    .dataframe tbody tr th:only-of-type {\n",
       "        vertical-align: middle;\n",
       "    }\n",
       "\n",
       "    .dataframe tbody tr th {\n",
       "        vertical-align: top;\n",
       "    }\n",
       "\n",
       "    .dataframe thead th {\n",
       "        text-align: right;\n",
       "    }\n",
       "</style>\n",
       "<table border=\"1\" class=\"dataframe\">\n",
       "  <thead>\n",
       "    <tr style=\"text-align: right;\">\n",
       "      <th></th>\n",
       "      <th>Restaurant ID</th>\n",
       "      <th>Restaurant Name</th>\n",
       "      <th>Country Code</th>\n",
       "      <th>City</th>\n",
       "      <th>Address</th>\n",
       "      <th>Locality</th>\n",
       "      <th>Locality Verbose</th>\n",
       "      <th>Longitude</th>\n",
       "      <th>Latitude</th>\n",
       "      <th>Cuisines</th>\n",
       "      <th>...</th>\n",
       "      <th>Currency</th>\n",
       "      <th>Has Table booking</th>\n",
       "      <th>Has Online delivery</th>\n",
       "      <th>Is delivering now</th>\n",
       "      <th>Switch to order menu</th>\n",
       "      <th>Price range</th>\n",
       "      <th>Aggregate rating</th>\n",
       "      <th>Rating color</th>\n",
       "      <th>Rating text</th>\n",
       "      <th>Votes</th>\n",
       "    </tr>\n",
       "  </thead>\n",
       "  <tbody>\n",
       "    <tr>\n",
       "      <th>0</th>\n",
       "      <td>6317637</td>\n",
       "      <td>Le Petit Souffle</td>\n",
       "      <td>162</td>\n",
       "      <td>Makati City</td>\n",
       "      <td>Third Floor, Century City Mall, Kalayaan Avenu...</td>\n",
       "      <td>Century City Mall, Poblacion, Makati City</td>\n",
       "      <td>Century City Mall, Poblacion, Makati City, Mak...</td>\n",
       "      <td>121.027535</td>\n",
       "      <td>14.565443</td>\n",
       "      <td>French, Japanese, Desserts</td>\n",
       "      <td>...</td>\n",
       "      <td>Botswana Pula(P)</td>\n",
       "      <td>Yes</td>\n",
       "      <td>No</td>\n",
       "      <td>No</td>\n",
       "      <td>No</td>\n",
       "      <td>3</td>\n",
       "      <td>4.8</td>\n",
       "      <td>Dark Green</td>\n",
       "      <td>Excellent</td>\n",
       "      <td>314</td>\n",
       "    </tr>\n",
       "    <tr>\n",
       "      <th>1</th>\n",
       "      <td>6304287</td>\n",
       "      <td>Izakaya Kikufuji</td>\n",
       "      <td>162</td>\n",
       "      <td>Makati City</td>\n",
       "      <td>Little Tokyo, 2277 Chino Roces Avenue, Legaspi...</td>\n",
       "      <td>Little Tokyo, Legaspi Village, Makati City</td>\n",
       "      <td>Little Tokyo, Legaspi Village, Makati City, Ma...</td>\n",
       "      <td>121.014101</td>\n",
       "      <td>14.553708</td>\n",
       "      <td>Japanese</td>\n",
       "      <td>...</td>\n",
       "      <td>Botswana Pula(P)</td>\n",
       "      <td>Yes</td>\n",
       "      <td>No</td>\n",
       "      <td>No</td>\n",
       "      <td>No</td>\n",
       "      <td>3</td>\n",
       "      <td>4.5</td>\n",
       "      <td>Dark Green</td>\n",
       "      <td>Excellent</td>\n",
       "      <td>591</td>\n",
       "    </tr>\n",
       "    <tr>\n",
       "      <th>2</th>\n",
       "      <td>6300002</td>\n",
       "      <td>Heat - Edsa Shangri-La</td>\n",
       "      <td>162</td>\n",
       "      <td>Mandaluyong City</td>\n",
       "      <td>Edsa Shangri-La, 1 Garden Way, Ortigas, Mandal...</td>\n",
       "      <td>Edsa Shangri-La, Ortigas, Mandaluyong City</td>\n",
       "      <td>Edsa Shangri-La, Ortigas, Mandaluyong City, Ma...</td>\n",
       "      <td>121.056831</td>\n",
       "      <td>14.581404</td>\n",
       "      <td>Seafood, Asian, Filipino, Indian</td>\n",
       "      <td>...</td>\n",
       "      <td>Botswana Pula(P)</td>\n",
       "      <td>Yes</td>\n",
       "      <td>No</td>\n",
       "      <td>No</td>\n",
       "      <td>No</td>\n",
       "      <td>4</td>\n",
       "      <td>4.4</td>\n",
       "      <td>Green</td>\n",
       "      <td>Very Good</td>\n",
       "      <td>270</td>\n",
       "    </tr>\n",
       "    <tr>\n",
       "      <th>3</th>\n",
       "      <td>6318506</td>\n",
       "      <td>Ooma</td>\n",
       "      <td>162</td>\n",
       "      <td>Mandaluyong City</td>\n",
       "      <td>Third Floor, Mega Fashion Hall, SM Megamall, O...</td>\n",
       "      <td>SM Megamall, Ortigas, Mandaluyong City</td>\n",
       "      <td>SM Megamall, Ortigas, Mandaluyong City, Mandal...</td>\n",
       "      <td>121.056475</td>\n",
       "      <td>14.585318</td>\n",
       "      <td>Japanese, Sushi</td>\n",
       "      <td>...</td>\n",
       "      <td>Botswana Pula(P)</td>\n",
       "      <td>No</td>\n",
       "      <td>No</td>\n",
       "      <td>No</td>\n",
       "      <td>No</td>\n",
       "      <td>4</td>\n",
       "      <td>4.9</td>\n",
       "      <td>Dark Green</td>\n",
       "      <td>Excellent</td>\n",
       "      <td>365</td>\n",
       "    </tr>\n",
       "    <tr>\n",
       "      <th>4</th>\n",
       "      <td>6314302</td>\n",
       "      <td>Sambo Kojin</td>\n",
       "      <td>162</td>\n",
       "      <td>Mandaluyong City</td>\n",
       "      <td>Third Floor, Mega Atrium, SM Megamall, Ortigas...</td>\n",
       "      <td>SM Megamall, Ortigas, Mandaluyong City</td>\n",
       "      <td>SM Megamall, Ortigas, Mandaluyong City, Mandal...</td>\n",
       "      <td>121.057508</td>\n",
       "      <td>14.584450</td>\n",
       "      <td>Japanese, Korean</td>\n",
       "      <td>...</td>\n",
       "      <td>Botswana Pula(P)</td>\n",
       "      <td>Yes</td>\n",
       "      <td>No</td>\n",
       "      <td>No</td>\n",
       "      <td>No</td>\n",
       "      <td>4</td>\n",
       "      <td>4.8</td>\n",
       "      <td>Dark Green</td>\n",
       "      <td>Excellent</td>\n",
       "      <td>229</td>\n",
       "    </tr>\n",
       "  </tbody>\n",
       "</table>\n",
       "<p>5 rows × 21 columns</p>\n",
       "</div>"
      ],
      "text/plain": [
       "   Restaurant ID         Restaurant Name  Country Code              City  \\\n",
       "0        6317637        Le Petit Souffle           162       Makati City   \n",
       "1        6304287        Izakaya Kikufuji           162       Makati City   \n",
       "2        6300002  Heat - Edsa Shangri-La           162  Mandaluyong City   \n",
       "3        6318506                    Ooma           162  Mandaluyong City   \n",
       "4        6314302             Sambo Kojin           162  Mandaluyong City   \n",
       "\n",
       "                                             Address  \\\n",
       "0  Third Floor, Century City Mall, Kalayaan Avenu...   \n",
       "1  Little Tokyo, 2277 Chino Roces Avenue, Legaspi...   \n",
       "2  Edsa Shangri-La, 1 Garden Way, Ortigas, Mandal...   \n",
       "3  Third Floor, Mega Fashion Hall, SM Megamall, O...   \n",
       "4  Third Floor, Mega Atrium, SM Megamall, Ortigas...   \n",
       "\n",
       "                                     Locality  \\\n",
       "0   Century City Mall, Poblacion, Makati City   \n",
       "1  Little Tokyo, Legaspi Village, Makati City   \n",
       "2  Edsa Shangri-La, Ortigas, Mandaluyong City   \n",
       "3      SM Megamall, Ortigas, Mandaluyong City   \n",
       "4      SM Megamall, Ortigas, Mandaluyong City   \n",
       "\n",
       "                                    Locality Verbose   Longitude   Latitude  \\\n",
       "0  Century City Mall, Poblacion, Makati City, Mak...  121.027535  14.565443   \n",
       "1  Little Tokyo, Legaspi Village, Makati City, Ma...  121.014101  14.553708   \n",
       "2  Edsa Shangri-La, Ortigas, Mandaluyong City, Ma...  121.056831  14.581404   \n",
       "3  SM Megamall, Ortigas, Mandaluyong City, Mandal...  121.056475  14.585318   \n",
       "4  SM Megamall, Ortigas, Mandaluyong City, Mandal...  121.057508  14.584450   \n",
       "\n",
       "                           Cuisines  ...          Currency Has Table booking  \\\n",
       "0        French, Japanese, Desserts  ...  Botswana Pula(P)               Yes   \n",
       "1                          Japanese  ...  Botswana Pula(P)               Yes   \n",
       "2  Seafood, Asian, Filipino, Indian  ...  Botswana Pula(P)               Yes   \n",
       "3                   Japanese, Sushi  ...  Botswana Pula(P)                No   \n",
       "4                  Japanese, Korean  ...  Botswana Pula(P)               Yes   \n",
       "\n",
       "  Has Online delivery Is delivering now Switch to order menu Price range  \\\n",
       "0                  No                No                   No           3   \n",
       "1                  No                No                   No           3   \n",
       "2                  No                No                   No           4   \n",
       "3                  No                No                   No           4   \n",
       "4                  No                No                   No           4   \n",
       "\n",
       "   Aggregate rating  Rating color Rating text Votes  \n",
       "0               4.8    Dark Green   Excellent   314  \n",
       "1               4.5    Dark Green   Excellent   591  \n",
       "2               4.4         Green   Very Good   270  \n",
       "3               4.9    Dark Green   Excellent   365  \n",
       "4               4.8    Dark Green   Excellent   229  \n",
       "\n",
       "[5 rows x 21 columns]"
      ]
     },
     "execution_count": 178,
     "metadata": {},
     "output_type": "execute_result"
    }
   ],
   "source": [
    "df = pd.read_csv(r\"B:\\VIRTUAL DS INTERSHIP\\Cognifiz -INTERN\\Dataset .csv\")\n",
    "pd.option_context('display.max_columns', None)\n",
    "df.head()"
   ]
  },
  {
   "cell_type": "markdown",
   "id": "847ae715-7bd8-4249-ab30-cb3924835ebd",
   "metadata": {},
   "source": [
    "# LEVEL-2 (Task-1)\n",
    "# Task: Table Booking and Online Delivery"
   ]
  },
  {
   "cell_type": "markdown",
   "id": "3b24e436-ba5e-420e-9266-bafa89af7f9e",
   "metadata": {},
   "source": [
    "#### Determine percentage of restaurents that offer table booking and online delivery."
   ]
  },
  {
   "cell_type": "code",
   "execution_count": 179,
   "id": "5ec62c87-e555-4c4d-8d41-7e719bbe8b65",
   "metadata": {},
   "outputs": [
    {
     "name": "stdout",
     "output_type": "stream",
     "text": [
      "precentage of restaurent that offers table booking: 12.12%\n"
     ]
    }
   ],
   "source": [
    "#calculating the percentage of restaurents that offers table booking\n",
    "table_booking_percentage = (df['Has Table booking'] == 'Yes').sum() / len(df)*100\n",
    "print(f\"precentage of restaurent that offers table booking: {table_booking_percentage:.2f}%\")"
   ]
  },
  {
   "cell_type": "code",
   "execution_count": 180,
   "id": "612f91a4-ef6f-44a2-84d3-ca3054ea27b3",
   "metadata": {},
   "outputs": [
    {
     "name": "stdout",
     "output_type": "stream",
     "text": [
      "percentage of restaurants that offers Online delivery: 25.66%\n"
     ]
    }
   ],
   "source": [
    "#calculating the percentage of restaurants thet offers online delivery\n",
    "online_delivery_percentage = (df[\"Has Online delivery\"]== 'Yes').sum() / len(df)*100\n",
    "print(f\"percentage of restaurants that offers Online delivery: {online_delivery_percentage:.2f}%\")"
   ]
  },
  {
   "cell_type": "code",
   "execution_count": 181,
   "id": "6e2038d0-656d-4655-a293-19aec09458cf",
   "metadata": {},
   "outputs": [
    {
     "data": {
      "image/png": "[encoded data removed]",
      "text/plain": [
       "<Figure size 640x480 with 1 Axes>"
      ]
     },
     "metadata": {},
     "output_type": "display_data"
    }
   ],
   "source": [
    "# Creating the bar plot\n",
    "plt.bar(['Table Booking', 'Online Delivery'], [table_booking_percentage, online_delivery_percentage])\n",
    "plt.xlabel('Service')\n",
    "plt.ylabel('percentage')\n",
    "plt.title('Percentage of Restaurents that offers Table Booking and Online Delivery')\n",
    "plt.show()"
   ]
  },
  {
   "cell_type": "markdown",
   "id": "d8af49fa-71e2-4f06-ae89-b112ae875436",
   "metadata": {},
   "source": [
    "### Compare the average rating of restaurants with table booking and those wothout."
   ]
  },
  {
   "cell_type": "code",
   "execution_count": 139,
   "id": "be12b74a-08d7-4f8a-a905-29454613e33f",
   "metadata": {},
   "outputs": [
    {
     "name": "stdout",
     "output_type": "stream",
     "text": [
      "Average rating of restaurents with table booking: 3.44\n"
     ]
    }
   ],
   "source": [
    "# Calculate the average rating of restaurants with table booking\n",
    "table_booking_avg_rating = df[df['Has Table booking'] == 'Yes'] ['Aggregate rating'].mean()\n",
    "print(f\"Average rating of restaurents with table booking: {table_booking_avg_rating:.2f}\")"
   ]
  },
  {
   "cell_type": "code",
   "execution_count": 140,
   "id": "46d9f19b-c844-4c85-a7f2-24b73123865c",
   "metadata": {},
   "outputs": [
    {
     "name": "stdout",
     "output_type": "stream",
     "text": [
      "Averager rating of restaurants without table booking: 2.56\n"
     ]
    }
   ],
   "source": [
    "#calculating the average rating of restaurantes without table booking\n",
    "without_table_booking_avg_rating = df[df['Has Table booking'] == 'No'] ['Aggregate rating'].mean()\n",
    "print(f\"Averager rating of restaurants without table booking: {without_table_booking_avg_rating:.2f}\")"
   ]
  },
  {
   "cell_type": "code",
   "execution_count": 141,
   "id": "2f37866a-b47e-4b39-80a8-98041bbb25a7",
   "metadata": {},
   "outputs": [
    {
     "data": {
      "image/png": "[encoded data removed]",
      "text/plain": [
       "<Figure size 640x480 with 1 Axes>"
      ]
     },
     "metadata": {},
     "output_type": "display_data"
    }
   ],
   "source": [
    "# Ploting the bar plot\n",
    "plt.bar(['With Table Booking', 'Without Table Booking'], [table_booking_avg_rating, without_table_booking_avg_rating])\n",
    "plt.xlabel('Table Booking')\n",
    "plt.ylabel('Average Rating')\n",
    "plt.title('Average Rating for Restaurants with and without Table Booking')\n",
    "plt.show()"
   ]
  },
  {
   "cell_type": "markdown",
   "id": "1a29ea63-ccc3-4495-9ec8-70156db1e5c5",
   "metadata": {},
   "source": [
    "### Analysing the availability of online delivery among  restaurents with different price ranges"
   ]
  },
  {
   "cell_type": "code",
   "execution_count": 142,
   "id": "c8469b6d-d265-43d7-b895-e8d634f6bc5f",
   "metadata": {},
   "outputs": [
    {
     "name": "stdout",
     "output_type": "stream",
     "text": [
      "1    4444\n",
      "2    3113\n",
      "3    1408\n",
      "4     586\n",
      "Name: Price range, dtype: int64\n"
     ]
    }
   ],
   "source": [
    "print(df['Price range'].value_counts())"
   ]
  },
  {
   "cell_type": "code",
   "execution_count": 143,
   "id": "f60a2d68-7386-41b5-83c6-6d110b80bf91",
   "metadata": {},
   "outputs": [
    {
     "name": "stdout",
     "output_type": "stream",
     "text": [
      "Price range\n",
      "1    15.774077\n",
      "2    41.310633\n",
      "3    29.190341\n",
      "4     9.044369\n",
      "Name: Has Online delivery, dtype: float64\n"
     ]
    }
   ],
   "source": [
    "online_delivery_percentage = df.groupby('Price range') ['Has Online delivery'].apply(lambda x: (x == 'Yes').sum() / len(x)*100)\n",
    "print(online_delivery_percentage)"
   ]
  },
  {
   "cell_type": "code",
   "execution_count": 144,
   "id": "bf29dcf9-fc02-422a-b9bb-5e819a6195c0",
   "metadata": {},
   "outputs": [
    {
     "data": {
      "image/png": "[encoded data removed]",
      "text/plain": [
       "<Figure size 640x480 with 1 Axes>"
      ]
     },
     "metadata": {},
     "output_type": "display_data"
    }
   ],
   "source": [
    "# creating a bar plot\n",
    "plt.bar(online_delivery_percentage.index, online_delivery_percentage.values)\n",
    "plt.xlabel('Price Range')\n",
    "plt.ylabel('percentage')\n",
    "plt.title('Availability of Online Delivery among Restaurents with Different price ranges')\n",
    "plt.show()"
   ]
  },
  {
   "cell_type": "markdown",
   "id": "c7cc13cf-8cc9-404a-ae7c-c9413f048fa1",
   "metadata": {},
   "source": [
    "# Task-2: Price range analysis"
   ]
  },
  {
   "cell_type": "markdown",
   "id": "df996932-323f-4909-9d5f-8c5b5594b5cc",
   "metadata": {},
   "source": [
    "### Determine the most common price range among all the restaurants"
   ]
  },
  {
   "cell_type": "code",
   "execution_count": 146,
   "id": "2f587376-5b31-4460-b65c-5f31fa0cdb9d",
   "metadata": {},
   "outputs": [
    {
     "name": "stdout",
     "output_type": "stream",
     "text": [
      "most common price range is: 1\n"
     ]
    }
   ],
   "source": [
    "most_common_price_range = df['Price range'].mode().values[0]\n",
    "print(f\"most common price range is: {most_common_price_range}\")"
   ]
  },
  {
   "cell_type": "markdown",
   "id": "419d1a28-e7e7-462d-9dda-0a66cc9a8181",
   "metadata": {},
   "source": [
    "### Calculate the average rating for each price range."
   ]
  },
  {
   "cell_type": "code",
   "execution_count": 147,
   "id": "d4168fad-c730-41bf-87ac-9c28856b2b12",
   "metadata": {},
   "outputs": [
    {
     "name": "stdout",
     "output_type": "stream",
     "text": [
      "Price range\n",
      "1    1.999887\n",
      "2    2.941054\n",
      "3    3.683381\n",
      "4    3.817918\n",
      "Name: Aggregate rating, dtype: float64\n"
     ]
    }
   ],
   "source": [
    "average_ratings= df.groupby('Price range')['Aggregate rating'].mean()\n",
    "print(average_ratings)"
   ]
  },
  {
   "cell_type": "markdown",
   "id": "1708c8ff-e5df-4539-a498-7f2418801f0b",
   "metadata": {},
   "source": [
    "### Identify the color that represents the highest average rating among different price ranges."
   ]
  },
  {
   "cell_type": "code",
   "execution_count": 148,
   "id": "d0724c03-cf10-4378-a89e-3c450e4b078f",
   "metadata": {},
   "outputs": [],
   "source": [
    "avg_ratings = df.groupby(['Rating color', 'Price range']) ['Aggregate rating'].mean().reset_index()"
   ]
  },
  {
   "cell_type": "code",
   "execution_count": 149,
   "id": "d06a3332-0d5e-4f7a-975f-b9e375bb38ba",
   "metadata": {},
   "outputs": [
    {
     "name": "stdout",
     "output_type": "stream",
     "text": [
      "   Rating color  Price range  Aggregate rating\n",
      "0    Dark Green            1          4.668750\n",
      "1    Dark Green            2          4.627536\n",
      "2    Dark Green            3          4.646032\n",
      "3    Dark Green            4          4.709459\n",
      "4         Green            1          4.157639\n",
      "5         Green            2          4.159385\n",
      "6         Green            3          4.169231\n",
      "7         Green            4          4.188144\n",
      "8        Orange            1          3.040464\n",
      "9        Orange            2          3.048491\n",
      "10       Orange            3          3.097764\n",
      "11       Orange            4          3.162376\n",
      "12          Red            1          2.293548\n",
      "13          Red            2          2.300000\n",
      "14          Red            3          2.305000\n",
      "15          Red            4          2.283333\n",
      "16        White            1          0.000000\n",
      "17        White            2          0.000000\n",
      "18        White            3          0.000000\n",
      "19        White            4          0.000000\n",
      "20       Yellow            1          3.661842\n",
      "21       Yellow            2          3.671159\n",
      "22       Yellow            3          3.716265\n",
      "23       Yellow            4          3.716000\n"
     ]
    }
   ],
   "source": [
    "# sort the average rating in decending order\n",
    "agv_ratings = avg_ratings.sort_values('Aggregate rating', ascending = False)\n",
    "print(avg_ratings)"
   ]
  },
  {
   "cell_type": "markdown",
   "id": "05ff5784-8595-4f6b-bef3-d965361eb8b1",
   "metadata": {},
   "source": [
    "#### To get the specific column with the highest average rating."
   ]
  },
  {
   "cell_type": "code",
   "execution_count": 150,
   "id": "1dd5c23c-7518-4bf7-881a-3287c692feb9",
   "metadata": {},
   "outputs": [],
   "source": [
    "# get the  row with the highest average rating\n",
    "best_color = avg_ratings.iloc[0]"
   ]
  },
  {
   "cell_type": "code",
   "execution_count": 151,
   "id": "5b550e0f-0958-4b58-87eb-00d4e24e6c42",
   "metadata": {},
   "outputs": [
    {
     "name": "stdout",
     "output_type": "stream",
     "text": [
      "The color with the highest average rating is:  Dark Green\n"
     ]
    }
   ],
   "source": [
    "print('The color with the highest average rating is: ', best_color['Rating color'])"
   ]
  },
  {
   "cell_type": "code",
   "execution_count": 183,
   "id": "84e6a9ae-3189-4941-a382-07f3c229c265",
   "metadata": {},
   "outputs": [
    {
     "data": {
      "text/html": [
       "<div>\n",
       "<style scoped>\n",
       "    .dataframe tbody tr th:only-of-type {\n",
       "        vertical-align: middle;\n",
       "    }\n",
       "\n",
       "    .dataframe tbody tr th {\n",
       "        vertical-align: top;\n",
       "    }\n",
       "\n",
       "    .dataframe thead th {\n",
       "        text-align: right;\n",
       "    }\n",
       "</style>\n",
       "<table border=\"1\" class=\"dataframe\">\n",
       "  <thead>\n",
       "    <tr style=\"text-align: right;\">\n",
       "      <th></th>\n",
       "      <th>Restaurant ID</th>\n",
       "      <th>Restaurant Name</th>\n",
       "      <th>Country Code</th>\n",
       "      <th>City</th>\n",
       "      <th>Address</th>\n",
       "      <th>Locality</th>\n",
       "      <th>Locality Verbose</th>\n",
       "      <th>Longitude</th>\n",
       "      <th>Latitude</th>\n",
       "      <th>Cuisines</th>\n",
       "      <th>...</th>\n",
       "      <th>Currency</th>\n",
       "      <th>Has Table booking</th>\n",
       "      <th>Has Online delivery</th>\n",
       "      <th>Is delivering now</th>\n",
       "      <th>Switch to order menu</th>\n",
       "      <th>Price range</th>\n",
       "      <th>Aggregate rating</th>\n",
       "      <th>Rating color</th>\n",
       "      <th>Rating text</th>\n",
       "      <th>Votes</th>\n",
       "    </tr>\n",
       "  </thead>\n",
       "  <tbody>\n",
       "    <tr>\n",
       "      <th>0</th>\n",
       "      <td>6317637</td>\n",
       "      <td>Le Petit Souffle</td>\n",
       "      <td>162</td>\n",
       "      <td>Makati City</td>\n",
       "      <td>Third Floor, Century City Mall, Kalayaan Avenu...</td>\n",
       "      <td>Century City Mall, Poblacion, Makati City</td>\n",
       "      <td>Century City Mall, Poblacion, Makati City, Mak...</td>\n",
       "      <td>121.027535</td>\n",
       "      <td>14.565443</td>\n",
       "      <td>French, Japanese, Desserts</td>\n",
       "      <td>...</td>\n",
       "      <td>Botswana Pula(P)</td>\n",
       "      <td>Yes</td>\n",
       "      <td>No</td>\n",
       "      <td>No</td>\n",
       "      <td>No</td>\n",
       "      <td>3</td>\n",
       "      <td>4.8</td>\n",
       "      <td>Dark Green</td>\n",
       "      <td>Excellent</td>\n",
       "      <td>314</td>\n",
       "    </tr>\n",
       "    <tr>\n",
       "      <th>1</th>\n",
       "      <td>6304287</td>\n",
       "      <td>Izakaya Kikufuji</td>\n",
       "      <td>162</td>\n",
       "      <td>Makati City</td>\n",
       "      <td>Little Tokyo, 2277 Chino Roces Avenue, Legaspi...</td>\n",
       "      <td>Little Tokyo, Legaspi Village, Makati City</td>\n",
       "      <td>Little Tokyo, Legaspi Village, Makati City, Ma...</td>\n",
       "      <td>121.014101</td>\n",
       "      <td>14.553708</td>\n",
       "      <td>Japanese</td>\n",
       "      <td>...</td>\n",
       "      <td>Botswana Pula(P)</td>\n",
       "      <td>Yes</td>\n",
       "      <td>No</td>\n",
       "      <td>No</td>\n",
       "      <td>No</td>\n",
       "      <td>3</td>\n",
       "      <td>4.5</td>\n",
       "      <td>Dark Green</td>\n",
       "      <td>Excellent</td>\n",
       "      <td>591</td>\n",
       "    </tr>\n",
       "    <tr>\n",
       "      <th>2</th>\n",
       "      <td>6300002</td>\n",
       "      <td>Heat - Edsa Shangri-La</td>\n",
       "      <td>162</td>\n",
       "      <td>Mandaluyong City</td>\n",
       "      <td>Edsa Shangri-La, 1 Garden Way, Ortigas, Mandal...</td>\n",
       "      <td>Edsa Shangri-La, Ortigas, Mandaluyong City</td>\n",
       "      <td>Edsa Shangri-La, Ortigas, Mandaluyong City, Ma...</td>\n",
       "      <td>121.056831</td>\n",
       "      <td>14.581404</td>\n",
       "      <td>Seafood, Asian, Filipino, Indian</td>\n",
       "      <td>...</td>\n",
       "      <td>Botswana Pula(P)</td>\n",
       "      <td>Yes</td>\n",
       "      <td>No</td>\n",
       "      <td>No</td>\n",
       "      <td>No</td>\n",
       "      <td>4</td>\n",
       "      <td>4.4</td>\n",
       "      <td>Green</td>\n",
       "      <td>Very Good</td>\n",
       "      <td>270</td>\n",
       "    </tr>\n",
       "    <tr>\n",
       "      <th>3</th>\n",
       "      <td>6318506</td>\n",
       "      <td>Ooma</td>\n",
       "      <td>162</td>\n",
       "      <td>Mandaluyong City</td>\n",
       "      <td>Third Floor, Mega Fashion Hall, SM Megamall, O...</td>\n",
       "      <td>SM Megamall, Ortigas, Mandaluyong City</td>\n",
       "      <td>SM Megamall, Ortigas, Mandaluyong City, Mandal...</td>\n",
       "      <td>121.056475</td>\n",
       "      <td>14.585318</td>\n",
       "      <td>Japanese, Sushi</td>\n",
       "      <td>...</td>\n",
       "      <td>Botswana Pula(P)</td>\n",
       "      <td>No</td>\n",
       "      <td>No</td>\n",
       "      <td>No</td>\n",
       "      <td>No</td>\n",
       "      <td>4</td>\n",
       "      <td>4.9</td>\n",
       "      <td>Dark Green</td>\n",
       "      <td>Excellent</td>\n",
       "      <td>365</td>\n",
       "    </tr>\n",
       "    <tr>\n",
       "      <th>4</th>\n",
       "      <td>6314302</td>\n",
       "      <td>Sambo Kojin</td>\n",
       "      <td>162</td>\n",
       "      <td>Mandaluyong City</td>\n",
       "      <td>Third Floor, Mega Atrium, SM Megamall, Ortigas...</td>\n",
       "      <td>SM Megamall, Ortigas, Mandaluyong City</td>\n",
       "      <td>SM Megamall, Ortigas, Mandaluyong City, Mandal...</td>\n",
       "      <td>121.057508</td>\n",
       "      <td>14.584450</td>\n",
       "      <td>Japanese, Korean</td>\n",
       "      <td>...</td>\n",
       "      <td>Botswana Pula(P)</td>\n",
       "      <td>Yes</td>\n",
       "      <td>No</td>\n",
       "      <td>No</td>\n",
       "      <td>No</td>\n",
       "      <td>4</td>\n",
       "      <td>4.8</td>\n",
       "      <td>Dark Green</td>\n",
       "      <td>Excellent</td>\n",
       "      <td>229</td>\n",
       "    </tr>\n",
       "  </tbody>\n",
       "</table>\n",
       "<p>5 rows × 21 columns</p>\n",
       "</div>"
      ],
      "text/plain": [
       "   Restaurant ID         Restaurant Name  Country Code              City  \\\n",
       "0        6317637        Le Petit Souffle           162       Makati City   \n",
       "1        6304287        Izakaya Kikufuji           162       Makati City   \n",
       "2        6300002  Heat - Edsa Shangri-La           162  Mandaluyong City   \n",
       "3        6318506                    Ooma           162  Mandaluyong City   \n",
       "4        6314302             Sambo Kojin           162  Mandaluyong City   \n",
       "\n",
       "                                             Address  \\\n",
       "0  Third Floor, Century City Mall, Kalayaan Avenu...   \n",
       "1  Little Tokyo, 2277 Chino Roces Avenue, Legaspi...   \n",
       "2  Edsa Shangri-La, 1 Garden Way, Ortigas, Mandal...   \n",
       "3  Third Floor, Mega Fashion Hall, SM Megamall, O...   \n",
       "4  Third Floor, Mega Atrium, SM Megamall, Ortigas...   \n",
       "\n",
       "                                     Locality  \\\n",
       "0   Century City Mall, Poblacion, Makati City   \n",
       "1  Little Tokyo, Legaspi Village, Makati City   \n",
       "2  Edsa Shangri-La, Ortigas, Mandaluyong City   \n",
       "3      SM Megamall, Ortigas, Mandaluyong City   \n",
       "4      SM Megamall, Ortigas, Mandaluyong City   \n",
       "\n",
       "                                    Locality Verbose   Longitude   Latitude  \\\n",
       "0  Century City Mall, Poblacion, Makati City, Mak...  121.027535  14.565443   \n",
       "1  Little Tokyo, Legaspi Village, Makati City, Ma...  121.014101  14.553708   \n",
       "2  Edsa Shangri-La, Ortigas, Mandaluyong City, Ma...  121.056831  14.581404   \n",
       "3  SM Megamall, Ortigas, Mandaluyong City, Mandal...  121.056475  14.585318   \n",
       "4  SM Megamall, Ortigas, Mandaluyong City, Mandal...  121.057508  14.584450   \n",
       "\n",
       "                           Cuisines  ...          Currency Has Table booking  \\\n",
       "0        French, Japanese, Desserts  ...  Botswana Pula(P)               Yes   \n",
       "1                          Japanese  ...  Botswana Pula(P)               Yes   \n",
       "2  Seafood, Asian, Filipino, Indian  ...  Botswana Pula(P)               Yes   \n",
       "3                   Japanese, Sushi  ...  Botswana Pula(P)                No   \n",
       "4                  Japanese, Korean  ...  Botswana Pula(P)               Yes   \n",
       "\n",
       "  Has Online delivery Is delivering now Switch to order menu Price range  \\\n",
       "0                  No                No                   No           3   \n",
       "1                  No                No                   No           3   \n",
       "2                  No                No                   No           4   \n",
       "3                  No                No                   No           4   \n",
       "4                  No                No                   No           4   \n",
       "\n",
       "   Aggregate rating  Rating color Rating text Votes  \n",
       "0               4.8    Dark Green   Excellent   314  \n",
       "1               4.5    Dark Green   Excellent   591  \n",
       "2               4.4         Green   Very Good   270  \n",
       "3               4.9    Dark Green   Excellent   365  \n",
       "4               4.8    Dark Green   Excellent   229  \n",
       "\n",
       "[5 rows x 21 columns]"
      ]
     },
     "execution_count": 183,
     "metadata": {},
     "output_type": "execute_result"
    }
   ],
   "source": [
    "df.head()"
   ]
  },
  {
   "cell_type": "markdown",
   "id": "8239fa65-c8a1-44b0-861f-38f838895a1e",
   "metadata": {},
   "source": [
    "## TASK-3: Featue Engineering"
   ]
  },
  {
   "cell_type": "code",
   "execution_count": 184,
   "id": "96964e46-985b-427b-996f-5cdc555a70e2",
   "metadata": {},
   "outputs": [
    {
     "name": "stdout",
     "output_type": "stream",
     "text": [
      "Restaurant ID           0\n",
      "Restaurant Name         0\n",
      "Country Code            0\n",
      "City                    0\n",
      "Address                 0\n",
      "Locality                0\n",
      "Locality Verbose        0\n",
      "Longitude               0\n",
      "Latitude                0\n",
      "Cuisines                9\n",
      "Average Cost for two    0\n",
      "Currency                0\n",
      "Has Table booking       0\n",
      "Has Online delivery     0\n",
      "Is delivering now       0\n",
      "Switch to order menu    0\n",
      "Price range             0\n",
      "Aggregate rating        0\n",
      "Rating color            0\n",
      "Rating text             0\n",
      "Votes                   0\n",
      "dtype: int64\n"
     ]
    }
   ],
   "source": [
    "# checking for the missing values\n",
    "missing_values = df.isnull().sum()\n",
    "print(missing_values)"
   ]
  },
  {
   "cell_type": "markdown",
   "id": "4c0c5f3a-3bf0-48a3-8787-db34ac0c9be3",
   "metadata": {},
   "source": [
    "There are 9 missing values in 'Cuisines' column."
   ]
  },
  {
   "cell_type": "code",
   "execution_count": 185,
   "id": "da96c6d1-a251-4928-b359-923f13eef7b2",
   "metadata": {},
   "outputs": [
    {
     "data": {
      "text/plain": [
       "Restaurant ID           0\n",
       "Restaurant Name         0\n",
       "Country Code            0\n",
       "City                    0\n",
       "Address                 0\n",
       "Locality                0\n",
       "Locality Verbose        0\n",
       "Longitude               0\n",
       "Latitude                0\n",
       "Cuisines                0\n",
       "Average Cost for two    0\n",
       "Currency                0\n",
       "Has Table booking       0\n",
       "Has Online delivery     0\n",
       "Is delivering now       0\n",
       "Switch to order menu    0\n",
       "Price range             0\n",
       "Aggregate rating        0\n",
       "Rating color            0\n",
       "Rating text             0\n",
       "Votes                   0\n",
       "dtype: int64"
      ]
     },
     "execution_count": 185,
     "metadata": {},
     "output_type": "execute_result"
    }
   ],
   "source": [
    "# handling the missing values\n",
    "df['Cuisines'] = df['Cuisines'].fillna('Unknown')\n",
    "df.isnull().sum()"
   ]
  },
  {
   "cell_type": "markdown",
   "id": "bee1fe8b-3035-4ebd-b55b-be8d1c6efa6f",
   "metadata": {},
   "source": [
    "All the missing values are been imputed, there are no missiing values in the data."
   ]
  },
  {
   "cell_type": "code",
   "execution_count": 186,
   "id": "30dac501-81ef-48fb-b82f-7befd85f6234",
   "metadata": {},
   "outputs": [],
   "source": [
    "from sklearn.preprocessing import LabelEncoder, StandardScaler"
   ]
  },
  {
   "cell_type": "code",
   "execution_count": 198,
   "id": "651c7e33-0adb-4447-853c-615c9966fc4f",
   "metadata": {},
   "outputs": [],
   "source": [
    "categorical_Columns = ['Country code', 'City', 'Currency', 'Has Table booking',\n",
    "                       'Has Online delivery', 'Is delivering now', 'Rating color',\n",
    "                       'Rating text', 'Address', 'Locality', 'Switch to order menu']\n",
    "\n",
    "numerical_columns = ['Average Cost for two', 'Price range', 'Votes', 'Longitude',\n",
    "                     'Latitude', 'Restaurant ID']"
   ]
  },
  {
   "cell_type": "markdown",
   "id": "14675e47-69e8-432b-878e-f47fcfdffb46",
   "metadata": {},
   "source": [
    "## Encoding the Categorical features"
   ]
  },
  {
   "cell_type": "code",
   "execution_count": 192,
   "id": "17cb2138-dc47-4499-a657-899ad2721efb",
   "metadata": {},
   "outputs": [],
   "source": [
    "label_encoders= {}\n",
    "categorical_columns =[\n",
    "    'Country Code', 'City', 'Currency', 'Has Table booking', 'Has Online delivery',\n",
    "    'Is delivering now','Rating color', 'Rating text', 'Switch to order menu']\n",
    "\n",
    "for col in categorical_columns:\n",
    "    le = LabelEncoder()\n",
    "    df[col] = le.fit_transform(df[col])\n",
    "    label_encoders[col] = le"
   ]
  },
  {
   "cell_type": "markdown",
   "id": "90df7da8-9334-4b3b-8a95-32340996fea2",
   "metadata": {},
   "source": [
    "## Standard scaling for the numerical features"
   ]
  },
  {
   "cell_type": "code",
   "execution_count": 193,
   "id": "7c9db511-aa48-402e-925b-d332465c0f82",
   "metadata": {},
   "outputs": [],
   "source": [
    "numeric_columns = ['Average Cost for two', 'Price range', 'Votes', 'Longitude',\n",
    "                   'Latitude', 'Restaurant ID']\n",
    "scaler = StandardScaler()\n",
    "df[numeric_columns] = scaler.fit_transform(df[numeric_columns])"
   ]
  },
  {
   "cell_type": "markdown",
   "id": "b22696eb-4603-4bc8-a4de-6f15bc258b32",
   "metadata": {},
   "source": [
    "## Create new derived features"
   ]
  },
  {
   "cell_type": "code",
   "execution_count": 194,
   "id": "bd3ff4a9-6ecb-4d0b-b03c-c7d42d7c839e",
   "metadata": {},
   "outputs": [],
   "source": [
    "# Customer value (Votes weighted by price range)\n",
    "df['Customer Value'] = df['Votes'] * df['Price range']"
   ]
  },
  {
   "cell_type": "code",
   "execution_count": 195,
   "id": "f1d031f2-29ba-4765-8ee8-479d2abcc458",
   "metadata": {},
   "outputs": [],
   "source": [
    "# Population score (Aggregation Rating * Votes)\n",
    "df['Population Score'] = df['Aggregate rating'] * df['Votes']"
   ]
  },
  {
   "cell_type": "markdown",
   "id": "5d08a6c3-ab58-4766-9bd7-b1223bb73d9b",
   "metadata": {},
   "source": [
    "## Droping irrelavent columns"
   ]
  },
  {
   "cell_type": "code",
   "execution_count": 196,
   "id": "05227596-394b-4cac-b68f-50f394eaaa30",
   "metadata": {},
   "outputs": [],
   "source": [
    "irrelavent_columns = ['Locality Verbose']\n",
    "df = df.drop(columns = irrelavent_columns)"
   ]
  },
  {
   "cell_type": "code",
   "execution_count": 197,
   "id": "8f97616b-7620-41ba-8b5c-ef9cb99d45e9",
   "metadata": {},
   "outputs": [
    {
     "data": {
      "text/html": [
       "<div>\n",
       "<style scoped>\n",
       "    .dataframe tbody tr th:only-of-type {\n",
       "        vertical-align: middle;\n",
       "    }\n",
       "\n",
       "    .dataframe tbody tr th {\n",
       "        vertical-align: top;\n",
       "    }\n",
       "\n",
       "    .dataframe thead th {\n",
       "        text-align: right;\n",
       "    }\n",
       "</style>\n",
       "<table border=\"1\" class=\"dataframe\">\n",
       "  <thead>\n",
       "    <tr style=\"text-align: right;\">\n",
       "      <th></th>\n",
       "      <th>Restaurant ID</th>\n",
       "      <th>Restaurant Name</th>\n",
       "      <th>Country Code</th>\n",
       "      <th>City</th>\n",
       "      <th>Address</th>\n",
       "      <th>Locality</th>\n",
       "      <th>Longitude</th>\n",
       "      <th>Latitude</th>\n",
       "      <th>Cuisines</th>\n",
       "      <th>Average Cost for two</th>\n",
       "      <th>...</th>\n",
       "      <th>Has Online delivery</th>\n",
       "      <th>Is delivering now</th>\n",
       "      <th>Switch to order menu</th>\n",
       "      <th>Price range</th>\n",
       "      <th>Aggregate rating</th>\n",
       "      <th>Rating color</th>\n",
       "      <th>Rating text</th>\n",
       "      <th>Votes</th>\n",
       "      <th>Customer Value</th>\n",
       "      <th>Population Score</th>\n",
       "    </tr>\n",
       "  </thead>\n",
       "  <tbody>\n",
       "    <tr>\n",
       "      <th>0</th>\n",
       "      <td>-0.310940</td>\n",
       "      <td>Le Petit Souffle</td>\n",
       "      <td>6</td>\n",
       "      <td>73</td>\n",
       "      <td>Third Floor, Century City Mall, Kalayaan Avenu...</td>\n",
       "      <td>Century City Mall, Poblacion, Makati City</td>\n",
       "      <td>1.372269</td>\n",
       "      <td>-1.025581</td>\n",
       "      <td>French, Japanese, Desserts</td>\n",
       "      <td>-0.006154</td>\n",
       "      <td>...</td>\n",
       "      <td>0</td>\n",
       "      <td>0</td>\n",
       "      <td>0</td>\n",
       "      <td>1.319803</td>\n",
       "      <td>4.8</td>\n",
       "      <td>0</td>\n",
       "      <td>1</td>\n",
       "      <td>0.365202</td>\n",
       "      <td>0.481994</td>\n",
       "      <td>1.752968</td>\n",
       "    </tr>\n",
       "    <tr>\n",
       "      <th>1</th>\n",
       "      <td>-0.312458</td>\n",
       "      <td>Izakaya Kikufuji</td>\n",
       "      <td>6</td>\n",
       "      <td>73</td>\n",
       "      <td>Little Tokyo, 2277 Chino Roces Avenue, Legaspi...</td>\n",
       "      <td>Little Tokyo, Legaspi Village, Makati City</td>\n",
       "      <td>1.371945</td>\n",
       "      <td>-1.026647</td>\n",
       "      <td>Japanese</td>\n",
       "      <td>0.000049</td>\n",
       "      <td>...</td>\n",
       "      <td>0</td>\n",
       "      <td>0</td>\n",
       "      <td>0</td>\n",
       "      <td>1.319803</td>\n",
       "      <td>4.5</td>\n",
       "      <td>0</td>\n",
       "      <td>1</td>\n",
       "      <td>1.009168</td>\n",
       "      <td>1.331903</td>\n",
       "      <td>4.541256</td>\n",
       "    </tr>\n",
       "  </tbody>\n",
       "</table>\n",
       "<p>2 rows × 22 columns</p>\n",
       "</div>"
      ],
      "text/plain": [
       "   Restaurant ID   Restaurant Name  Country Code  City  \\\n",
       "0      -0.310940  Le Petit Souffle             6    73   \n",
       "1      -0.312458  Izakaya Kikufuji             6    73   \n",
       "\n",
       "                                             Address  \\\n",
       "0  Third Floor, Century City Mall, Kalayaan Avenu...   \n",
       "1  Little Tokyo, 2277 Chino Roces Avenue, Legaspi...   \n",
       "\n",
       "                                     Locality  Longitude  Latitude  \\\n",
       "0   Century City Mall, Poblacion, Makati City   1.372269 -1.025581   \n",
       "1  Little Tokyo, Legaspi Village, Makati City   1.371945 -1.026647   \n",
       "\n",
       "                     Cuisines  Average Cost for two  ...  Has Online delivery  \\\n",
       "0  French, Japanese, Desserts             -0.006154  ...                    0   \n",
       "1                    Japanese              0.000049  ...                    0   \n",
       "\n",
       "   Is delivering now  Switch to order menu  Price range  Aggregate rating  \\\n",
       "0                  0                     0     1.319803               4.8   \n",
       "1                  0                     0     1.319803               4.5   \n",
       "\n",
       "   Rating color  Rating text     Votes  Customer Value  Population Score  \n",
       "0             0            1  0.365202        0.481994          1.752968  \n",
       "1             0            1  1.009168        1.331903          4.541256  \n",
       "\n",
       "[2 rows x 22 columns]"
      ]
     },
     "execution_count": 197,
     "metadata": {},
     "output_type": "execute_result"
    }
   ],
   "source": [
    "df.head(2)"
   ]
  },
  {
   "cell_type": "markdown",
   "id": "143e6854-1834-41c3-8b4d-a99abc38fecc",
   "metadata": {},
   "source": [
    "## Extracting Additional Features"
   ]
  },
  {
   "cell_type": "code",
   "execution_count": 165,
   "id": "45449cb8-78b2-45f8-801b-1a8a1516a9df",
   "metadata": {},
   "outputs": [],
   "source": [
    "# Length of the restaurant name\n",
    "df['Restaurant Name Length'] = df['Restaurant Name'].apply(len)"
   ]
  },
  {
   "cell_type": "code",
   "execution_count": 166,
   "id": "e8a08df0-9b53-405b-a788-a7c68d5e58d3",
   "metadata": {},
   "outputs": [],
   "source": [
    "# Lenght of the address\n",
    "df['Address Length'] = df['Address'].apply(len)"
   ]
  },
  {
   "cell_type": "code",
   "execution_count": 127,
   "id": "c0aab71b-4ff7-41d9-8124-40c712f322d6",
   "metadata": {},
   "outputs": [],
   "source": [
    "# Count of words in cuisines\n",
    "df['Cuisine Count'] = df['Cuisines'].apply(lambda x: len(str(x).split(',')))"
   ]
  },
  {
   "cell_type": "code",
   "execution_count": 128,
   "id": "a85f018a-0cc2-4cfb-8444-9f558de9bc9a",
   "metadata": {},
   "outputs": [],
   "source": [
    "# Wether restaurent offers Multiple Cuisines\n",
    "df['Multiple Cuisines'] = df['Cuisine Count'].apply(lambda x: 1 if x>1 else 0)"
   ]
  },
  {
   "cell_type": "code",
   "execution_count": 129,
   "id": "f34fa651-a284-466e-841d-0e5bdf3443d2",
   "metadata": {},
   "outputs": [
    {
     "data": {
      "text/html": [
       "<div>\n",
       "<style scoped>\n",
       "    .dataframe tbody tr th:only-of-type {\n",
       "        vertical-align: middle;\n",
       "    }\n",
       "\n",
       "    .dataframe tbody tr th {\n",
       "        vertical-align: top;\n",
       "    }\n",
       "\n",
       "    .dataframe thead th {\n",
       "        text-align: right;\n",
       "    }\n",
       "</style>\n",
       "<table border=\"1\" class=\"dataframe\">\n",
       "  <thead>\n",
       "    <tr style=\"text-align: right;\">\n",
       "      <th></th>\n",
       "      <th>Restaurant ID</th>\n",
       "      <th>Restaurant Name</th>\n",
       "      <th>Country Code</th>\n",
       "      <th>City</th>\n",
       "      <th>Address</th>\n",
       "      <th>Locality</th>\n",
       "      <th>Longitude</th>\n",
       "      <th>Latitude</th>\n",
       "      <th>Cuisines</th>\n",
       "      <th>Average Cost for two</th>\n",
       "      <th>...</th>\n",
       "      <th>Aggregate rating</th>\n",
       "      <th>Rating color</th>\n",
       "      <th>Rating text</th>\n",
       "      <th>Votes</th>\n",
       "      <th>Customer Value</th>\n",
       "      <th>Population Score</th>\n",
       "      <th>Restaurant Name Length</th>\n",
       "      <th>Address Length</th>\n",
       "      <th>Cuisine Count</th>\n",
       "      <th>Multiple Cuisines</th>\n",
       "    </tr>\n",
       "  </thead>\n",
       "  <tbody>\n",
       "    <tr>\n",
       "      <th>0</th>\n",
       "      <td>-0.310940</td>\n",
       "      <td>Le Petit Souffle</td>\n",
       "      <td>6</td>\n",
       "      <td>73</td>\n",
       "      <td>Third Floor, Century City Mall, Kalayaan Avenu...</td>\n",
       "      <td>Century City Mall, Poblacion, Makati City</td>\n",
       "      <td>1.372269</td>\n",
       "      <td>-1.025581</td>\n",
       "      <td>French, Japanese, Desserts</td>\n",
       "      <td>-0.006154</td>\n",
       "      <td>...</td>\n",
       "      <td>4.8</td>\n",
       "      <td>0</td>\n",
       "      <td>1</td>\n",
       "      <td>0.365202</td>\n",
       "      <td>0.481994</td>\n",
       "      <td>1.752968</td>\n",
       "      <td>16</td>\n",
       "      <td>71</td>\n",
       "      <td>3</td>\n",
       "      <td>1</td>\n",
       "    </tr>\n",
       "    <tr>\n",
       "      <th>1</th>\n",
       "      <td>-0.312458</td>\n",
       "      <td>Izakaya Kikufuji</td>\n",
       "      <td>6</td>\n",
       "      <td>73</td>\n",
       "      <td>Little Tokyo, 2277 Chino Roces Avenue, Legaspi...</td>\n",
       "      <td>Little Tokyo, Legaspi Village, Makati City</td>\n",
       "      <td>1.371945</td>\n",
       "      <td>-1.026647</td>\n",
       "      <td>Japanese</td>\n",
       "      <td>0.000049</td>\n",
       "      <td>...</td>\n",
       "      <td>4.5</td>\n",
       "      <td>0</td>\n",
       "      <td>1</td>\n",
       "      <td>1.009168</td>\n",
       "      <td>1.331903</td>\n",
       "      <td>4.541256</td>\n",
       "      <td>16</td>\n",
       "      <td>67</td>\n",
       "      <td>1</td>\n",
       "      <td>0</td>\n",
       "    </tr>\n",
       "    <tr>\n",
       "      <th>2</th>\n",
       "      <td>-0.312946</td>\n",
       "      <td>Heat - Edsa Shangri-La</td>\n",
       "      <td>6</td>\n",
       "      <td>75</td>\n",
       "      <td>Edsa Shangri-La, 1 Garden Way, Ortigas, Mandal...</td>\n",
       "      <td>Edsa Shangri-La, Ortigas, Mandaluyong City</td>\n",
       "      <td>1.372975</td>\n",
       "      <td>-1.024131</td>\n",
       "      <td>Seafood, Asian, Filipino, Indian</td>\n",
       "      <td>0.173743</td>\n",
       "      <td>...</td>\n",
       "      <td>4.4</td>\n",
       "      <td>1</td>\n",
       "      <td>5</td>\n",
       "      <td>0.262911</td>\n",
       "      <td>0.637320</td>\n",
       "      <td>1.156808</td>\n",
       "      <td>22</td>\n",
       "      <td>56</td>\n",
       "      <td>4</td>\n",
       "      <td>1</td>\n",
       "    </tr>\n",
       "    <tr>\n",
       "      <th>3</th>\n",
       "      <td>-0.310841</td>\n",
       "      <td>Ooma</td>\n",
       "      <td>6</td>\n",
       "      <td>75</td>\n",
       "      <td>Third Floor, Mega Fashion Hall, SM Megamall, O...</td>\n",
       "      <td>SM Megamall, Ortigas, Mandaluyong City</td>\n",
       "      <td>1.372966</td>\n",
       "      <td>-1.023775</td>\n",
       "      <td>Japanese, Sushi</td>\n",
       "      <td>0.018659</td>\n",
       "      <td>...</td>\n",
       "      <td>4.9</td>\n",
       "      <td>0</td>\n",
       "      <td>1</td>\n",
       "      <td>0.483766</td>\n",
       "      <td>1.172692</td>\n",
       "      <td>2.370453</td>\n",
       "      <td>4</td>\n",
       "      <td>70</td>\n",
       "      <td>2</td>\n",
       "      <td>1</td>\n",
       "    </tr>\n",
       "    <tr>\n",
       "      <th>4</th>\n",
       "      <td>-0.311319</td>\n",
       "      <td>Sambo Kojin</td>\n",
       "      <td>6</td>\n",
       "      <td>75</td>\n",
       "      <td>Third Floor, Mega Atrium, SM Megamall, Ortigas...</td>\n",
       "      <td>SM Megamall, Ortigas, Mandaluyong City</td>\n",
       "      <td>1.372991</td>\n",
       "      <td>-1.023854</td>\n",
       "      <td>Japanese, Korean</td>\n",
       "      <td>0.018659</td>\n",
       "      <td>...</td>\n",
       "      <td>4.8</td>\n",
       "      <td>0</td>\n",
       "      <td>1</td>\n",
       "      <td>0.167595</td>\n",
       "      <td>0.406264</td>\n",
       "      <td>0.804454</td>\n",
       "      <td>11</td>\n",
       "      <td>64</td>\n",
       "      <td>2</td>\n",
       "      <td>1</td>\n",
       "    </tr>\n",
       "  </tbody>\n",
       "</table>\n",
       "<p>5 rows × 26 columns</p>\n",
       "</div>"
      ],
      "text/plain": [
       "   Restaurant ID         Restaurant Name  Country Code  City  \\\n",
       "0      -0.310940        Le Petit Souffle             6    73   \n",
       "1      -0.312458        Izakaya Kikufuji             6    73   \n",
       "2      -0.312946  Heat - Edsa Shangri-La             6    75   \n",
       "3      -0.310841                    Ooma             6    75   \n",
       "4      -0.311319             Sambo Kojin             6    75   \n",
       "\n",
       "                                             Address  \\\n",
       "0  Third Floor, Century City Mall, Kalayaan Avenu...   \n",
       "1  Little Tokyo, 2277 Chino Roces Avenue, Legaspi...   \n",
       "2  Edsa Shangri-La, 1 Garden Way, Ortigas, Mandal...   \n",
       "3  Third Floor, Mega Fashion Hall, SM Megamall, O...   \n",
       "4  Third Floor, Mega Atrium, SM Megamall, Ortigas...   \n",
       "\n",
       "                                     Locality  Longitude  Latitude  \\\n",
       "0   Century City Mall, Poblacion, Makati City   1.372269 -1.025581   \n",
       "1  Little Tokyo, Legaspi Village, Makati City   1.371945 -1.026647   \n",
       "2  Edsa Shangri-La, Ortigas, Mandaluyong City   1.372975 -1.024131   \n",
       "3      SM Megamall, Ortigas, Mandaluyong City   1.372966 -1.023775   \n",
       "4      SM Megamall, Ortigas, Mandaluyong City   1.372991 -1.023854   \n",
       "\n",
       "                           Cuisines  Average Cost for two  ...  \\\n",
       "0        French, Japanese, Desserts             -0.006154  ...   \n",
       "1                          Japanese              0.000049  ...   \n",
       "2  Seafood, Asian, Filipino, Indian              0.173743  ...   \n",
       "3                   Japanese, Sushi              0.018659  ...   \n",
       "4                  Japanese, Korean              0.018659  ...   \n",
       "\n",
       "   Aggregate rating  Rating color  Rating text     Votes  Customer Value  \\\n",
       "0               4.8             0            1  0.365202        0.481994   \n",
       "1               4.5             0            1  1.009168        1.331903   \n",
       "2               4.4             1            5  0.262911        0.637320   \n",
       "3               4.9             0            1  0.483766        1.172692   \n",
       "4               4.8             0            1  0.167595        0.406264   \n",
       "\n",
       "   Population Score  Restaurant Name Length  Address Length  Cuisine Count  \\\n",
       "0          1.752968                      16              71              3   \n",
       "1          4.541256                      16              67              1   \n",
       "2          1.156808                      22              56              4   \n",
       "3          2.370453                       4              70              2   \n",
       "4          0.804454                      11              64              2   \n",
       "\n",
       "   Multiple Cuisines  \n",
       "0                  1  \n",
       "1                  0  \n",
       "2                  1  \n",
       "3                  1  \n",
       "4                  1  \n",
       "\n",
       "[5 rows x 26 columns]"
      ]
     },
     "execution_count": 129,
     "metadata": {},
     "output_type": "execute_result"
    }
   ],
   "source": [
    "df.head()"
   ]
  },
  {
   "cell_type": "markdown",
   "id": "5f184ad0-2ee6-43ba-8c80-ab9dbc237df8",
   "metadata": {},
   "source": [
    "## Creat new features like \"Has Table Booking\" or 'Has Online Delivery' by encoding categoric variables."
   ]
  },
  {
   "cell_type": "code",
   "execution_count": 130,
   "id": "6dd67c78-4125-4dc6-b022-d301da05d4f1",
   "metadata": {},
   "outputs": [],
   "source": [
    "# creating new features from Has Table Booking and Has Online Delivery\n",
    "df['Has_Table_Booking_and_Onlline_Delivery'] = df['Has Table booking'] * df['Has Online delivery']"
   ]
  },
  {
   "cell_type": "code",
   "execution_count": 131,
   "id": "3c5150df-d8c3-4455-a8cb-5eb75716cc6c",
   "metadata": {},
   "outputs": [
    {
     "data": {
      "text/html": [
       "<div>\n",
       "<style scoped>\n",
       "    .dataframe tbody tr th:only-of-type {\n",
       "        vertical-align: middle;\n",
       "    }\n",
       "\n",
       "    .dataframe tbody tr th {\n",
       "        vertical-align: top;\n",
       "    }\n",
       "\n",
       "    .dataframe thead th {\n",
       "        text-align: right;\n",
       "    }\n",
       "</style>\n",
       "<table border=\"1\" class=\"dataframe\">\n",
       "  <thead>\n",
       "    <tr style=\"text-align: right;\">\n",
       "      <th></th>\n",
       "      <th>Restaurant ID</th>\n",
       "      <th>Restaurant Name</th>\n",
       "      <th>Country Code</th>\n",
       "      <th>City</th>\n",
       "      <th>Address</th>\n",
       "      <th>Locality</th>\n",
       "      <th>Longitude</th>\n",
       "      <th>Latitude</th>\n",
       "      <th>Cuisines</th>\n",
       "      <th>Average Cost for two</th>\n",
       "      <th>...</th>\n",
       "      <th>Rating color</th>\n",
       "      <th>Rating text</th>\n",
       "      <th>Votes</th>\n",
       "      <th>Customer Value</th>\n",
       "      <th>Population Score</th>\n",
       "      <th>Restaurant Name Length</th>\n",
       "      <th>Address Length</th>\n",
       "      <th>Cuisine Count</th>\n",
       "      <th>Multiple Cuisines</th>\n",
       "      <th>Has_Table_Booking_and_Onlline_Delivery</th>\n",
       "    </tr>\n",
       "  </thead>\n",
       "  <tbody>\n",
       "    <tr>\n",
       "      <th>0</th>\n",
       "      <td>-0.310940</td>\n",
       "      <td>Le Petit Souffle</td>\n",
       "      <td>6</td>\n",
       "      <td>73</td>\n",
       "      <td>Third Floor, Century City Mall, Kalayaan Avenu...</td>\n",
       "      <td>Century City Mall, Poblacion, Makati City</td>\n",
       "      <td>1.372269</td>\n",
       "      <td>-1.025581</td>\n",
       "      <td>French, Japanese, Desserts</td>\n",
       "      <td>-0.006154</td>\n",
       "      <td>...</td>\n",
       "      <td>0</td>\n",
       "      <td>1</td>\n",
       "      <td>0.365202</td>\n",
       "      <td>0.481994</td>\n",
       "      <td>1.752968</td>\n",
       "      <td>16</td>\n",
       "      <td>71</td>\n",
       "      <td>3</td>\n",
       "      <td>1</td>\n",
       "      <td>0</td>\n",
       "    </tr>\n",
       "    <tr>\n",
       "      <th>1</th>\n",
       "      <td>-0.312458</td>\n",
       "      <td>Izakaya Kikufuji</td>\n",
       "      <td>6</td>\n",
       "      <td>73</td>\n",
       "      <td>Little Tokyo, 2277 Chino Roces Avenue, Legaspi...</td>\n",
       "      <td>Little Tokyo, Legaspi Village, Makati City</td>\n",
       "      <td>1.371945</td>\n",
       "      <td>-1.026647</td>\n",
       "      <td>Japanese</td>\n",
       "      <td>0.000049</td>\n",
       "      <td>...</td>\n",
       "      <td>0</td>\n",
       "      <td>1</td>\n",
       "      <td>1.009168</td>\n",
       "      <td>1.331903</td>\n",
       "      <td>4.541256</td>\n",
       "      <td>16</td>\n",
       "      <td>67</td>\n",
       "      <td>1</td>\n",
       "      <td>0</td>\n",
       "      <td>0</td>\n",
       "    </tr>\n",
       "    <tr>\n",
       "      <th>2</th>\n",
       "      <td>-0.312946</td>\n",
       "      <td>Heat - Edsa Shangri-La</td>\n",
       "      <td>6</td>\n",
       "      <td>75</td>\n",
       "      <td>Edsa Shangri-La, 1 Garden Way, Ortigas, Mandal...</td>\n",
       "      <td>Edsa Shangri-La, Ortigas, Mandaluyong City</td>\n",
       "      <td>1.372975</td>\n",
       "      <td>-1.024131</td>\n",
       "      <td>Seafood, Asian, Filipino, Indian</td>\n",
       "      <td>0.173743</td>\n",
       "      <td>...</td>\n",
       "      <td>1</td>\n",
       "      <td>5</td>\n",
       "      <td>0.262911</td>\n",
       "      <td>0.637320</td>\n",
       "      <td>1.156808</td>\n",
       "      <td>22</td>\n",
       "      <td>56</td>\n",
       "      <td>4</td>\n",
       "      <td>1</td>\n",
       "      <td>0</td>\n",
       "    </tr>\n",
       "    <tr>\n",
       "      <th>3</th>\n",
       "      <td>-0.310841</td>\n",
       "      <td>Ooma</td>\n",
       "      <td>6</td>\n",
       "      <td>75</td>\n",
       "      <td>Third Floor, Mega Fashion Hall, SM Megamall, O...</td>\n",
       "      <td>SM Megamall, Ortigas, Mandaluyong City</td>\n",
       "      <td>1.372966</td>\n",
       "      <td>-1.023775</td>\n",
       "      <td>Japanese, Sushi</td>\n",
       "      <td>0.018659</td>\n",
       "      <td>...</td>\n",
       "      <td>0</td>\n",
       "      <td>1</td>\n",
       "      <td>0.483766</td>\n",
       "      <td>1.172692</td>\n",
       "      <td>2.370453</td>\n",
       "      <td>4</td>\n",
       "      <td>70</td>\n",
       "      <td>2</td>\n",
       "      <td>1</td>\n",
       "      <td>0</td>\n",
       "    </tr>\n",
       "    <tr>\n",
       "      <th>4</th>\n",
       "      <td>-0.311319</td>\n",
       "      <td>Sambo Kojin</td>\n",
       "      <td>6</td>\n",
       "      <td>75</td>\n",
       "      <td>Third Floor, Mega Atrium, SM Megamall, Ortigas...</td>\n",
       "      <td>SM Megamall, Ortigas, Mandaluyong City</td>\n",
       "      <td>1.372991</td>\n",
       "      <td>-1.023854</td>\n",
       "      <td>Japanese, Korean</td>\n",
       "      <td>0.018659</td>\n",
       "      <td>...</td>\n",
       "      <td>0</td>\n",
       "      <td>1</td>\n",
       "      <td>0.167595</td>\n",
       "      <td>0.406264</td>\n",
       "      <td>0.804454</td>\n",
       "      <td>11</td>\n",
       "      <td>64</td>\n",
       "      <td>2</td>\n",
       "      <td>1</td>\n",
       "      <td>0</td>\n",
       "    </tr>\n",
       "  </tbody>\n",
       "</table>\n",
       "<p>5 rows × 27 columns</p>\n",
       "</div>"
      ],
      "text/plain": [
       "   Restaurant ID         Restaurant Name  Country Code  City  \\\n",
       "0      -0.310940        Le Petit Souffle             6    73   \n",
       "1      -0.312458        Izakaya Kikufuji             6    73   \n",
       "2      -0.312946  Heat - Edsa Shangri-La             6    75   \n",
       "3      -0.310841                    Ooma             6    75   \n",
       "4      -0.311319             Sambo Kojin             6    75   \n",
       "\n",
       "                                             Address  \\\n",
       "0  Third Floor, Century City Mall, Kalayaan Avenu...   \n",
       "1  Little Tokyo, 2277 Chino Roces Avenue, Legaspi...   \n",
       "2  Edsa Shangri-La, 1 Garden Way, Ortigas, Mandal...   \n",
       "3  Third Floor, Mega Fashion Hall, SM Megamall, O...   \n",
       "4  Third Floor, Mega Atrium, SM Megamall, Ortigas...   \n",
       "\n",
       "                                     Locality  Longitude  Latitude  \\\n",
       "0   Century City Mall, Poblacion, Makati City   1.372269 -1.025581   \n",
       "1  Little Tokyo, Legaspi Village, Makati City   1.371945 -1.026647   \n",
       "2  Edsa Shangri-La, Ortigas, Mandaluyong City   1.372975 -1.024131   \n",
       "3      SM Megamall, Ortigas, Mandaluyong City   1.372966 -1.023775   \n",
       "4      SM Megamall, Ortigas, Mandaluyong City   1.372991 -1.023854   \n",
       "\n",
       "                           Cuisines  Average Cost for two  ...  Rating color  \\\n",
       "0        French, Japanese, Desserts             -0.006154  ...             0   \n",
       "1                          Japanese              0.000049  ...             0   \n",
       "2  Seafood, Asian, Filipino, Indian              0.173743  ...             1   \n",
       "3                   Japanese, Sushi              0.018659  ...             0   \n",
       "4                  Japanese, Korean              0.018659  ...             0   \n",
       "\n",
       "   Rating text     Votes  Customer Value  Population Score  \\\n",
       "0            1  0.365202        0.481994          1.752968   \n",
       "1            1  1.009168        1.331903          4.541256   \n",
       "2            5  0.262911        0.637320          1.156808   \n",
       "3            1  0.483766        1.172692          2.370453   \n",
       "4            1  0.167595        0.406264          0.804454   \n",
       "\n",
       "   Restaurant Name Length  Address Length  Cuisine Count  Multiple Cuisines  \\\n",
       "0                      16              71              3                  1   \n",
       "1                      16              67              1                  0   \n",
       "2                      22              56              4                  1   \n",
       "3                       4              70              2                  1   \n",
       "4                      11              64              2                  1   \n",
       "\n",
       "   Has_Table_Booking_and_Onlline_Delivery  \n",
       "0                                       0  \n",
       "1                                       0  \n",
       "2                                       0  \n",
       "3                                       0  \n",
       "4                                       0  \n",
       "\n",
       "[5 rows x 27 columns]"
      ]
     },
     "execution_count": 131,
     "metadata": {},
     "output_type": "execute_result"
    }
   ],
   "source": [
    "df.head()"
   ]
  },
  {
   "cell_type": "code",
   "execution_count": null,
   "id": "b971c014-a090-4835-b978-590530465d92",
   "metadata": {},
   "outputs": [],
   "source": []
  }
 ],
 "metadata": {
  "kernelspec": {
   "display_name": "Python 3 (ipykernel)",
   "language": "python",
   "name": "python3"
  },
  "language_info": {
   "codemirror_mode": {
    "name": "ipython",
    "version": 3
   },
   "file_extension": ".py",
   "mimetype": "text/x-python",
   "name": "python",
   "nbconvert_exporter": "python",
   "pygments_lexer": "ipython3",
   "version": "3.11.7"
  }
 },
 "nbformat": 4,
 "nbformat_minor": 5
}
